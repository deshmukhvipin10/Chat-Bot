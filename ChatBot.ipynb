{
  "nbformat": 4,
  "nbformat_minor": 0,
  "metadata": {
    "colab": {
      "provenance": [],
      "authorship_tag": "ABX9TyMaIExhU1ermT1bNaOBXjZG",
      "include_colab_link": true
    },
    "kernelspec": {
      "name": "python3",
      "display_name": "Python 3"
    },
    "language_info": {
      "name": "python"
    }
  },
  "cells": [
    {
      "cell_type": "markdown",
      "metadata": {
        "id": "view-in-github",
        "colab_type": "text"
      },
      "source": [
        "<a href=\"https://colab.research.google.com/github/deshmukhvipin10/Chat-Bot/blob/main/ChatBot.ipynb\" target=\"_parent\"><img src=\"https://colab.research.google.com/assets/colab-badge.svg\" alt=\"Open In Colab\"/></a>"
      ]
    },
    {
      "cell_type": "code",
      "execution_count": null,
      "metadata": {
        "id": "Dx_54BXquO37"
      },
      "outputs": [],
      "source": [
        "# Description: This is a chat bot program"
      ]
    },
    {
      "cell_type": "code",
      "source": [
        "# import the library\n",
        "from nltk.chat.util import Chat, reflections"
      ],
      "metadata": {
        "id": "9Rx0-urSuoun"
      },
      "execution_count": 1,
      "outputs": []
    },
    {
      "cell_type": "code",
      "source": [
        "pairs = [\n",
        "    ['my name is (.*)', ['hi %1']],\n",
        "    ['(hi|hello|hey|namaste)', ['hey there', 'hi there', 'haayyy']],\n",
        "    ['(.*) in (.*) is fun', ['%1 in %2 is indeed fun']],\n",
        "    ['(.*)(location|city) ?', 'Tokyo, Japan'],\n",
        "    ['(.*) created you ?', ['Vipin Deshmukh did using NLTK']],\n",
        "    ['how is the weather in (.*)', ['the weather in %1 is amazing like always']],\n",
        "    ['(.*)help(.*)', ['I can help you']],\n",
        "    ['(.*) your name ?', ['my name is J.A.R.V.I.S']]\n",
        "]"
      ],
      "metadata": {
        "id": "y1hTiqNbu_XC"
      },
      "execution_count": 27,
      "outputs": []
    },
    {
      "cell_type": "code",
      "source": [
        "reflections"
      ],
      "metadata": {
        "colab": {
          "base_uri": "https://localhost:8080/"
        },
        "id": "hX2HLUU6289G",
        "outputId": "d9912d83-1f99-41a4-ba3a-3197d2984a31"
      },
      "execution_count": 11,
      "outputs": [
        {
          "output_type": "execute_result",
          "data": {
            "text/plain": [
              "{'i am': 'you are',\n",
              " 'i was': 'you were',\n",
              " 'i': 'you',\n",
              " \"i'm\": 'you are',\n",
              " \"i'd\": 'you would',\n",
              " \"i've\": 'you have',\n",
              " \"i'll\": 'you will',\n",
              " 'my': 'your',\n",
              " 'you are': 'I am',\n",
              " 'you were': 'I was',\n",
              " \"you've\": 'I have',\n",
              " \"you'll\": 'I will',\n",
              " 'your': 'my',\n",
              " 'yours': 'mine',\n",
              " 'you': 'me',\n",
              " 'me': 'you'}"
            ]
          },
          "metadata": {},
          "execution_count": 11
        }
      ]
    },
    {
      "cell_type": "code",
      "source": [
        "my_dummy_reflections = {\n",
        "    'go' : 'gone',\n",
        "    'hello' : 'hey there'\n",
        "}"
      ],
      "metadata": {
        "id": "tkluway929Q7"
      },
      "execution_count": 28,
      "outputs": []
    },
    {
      "cell_type": "code",
      "source": [
        "chat = Chat(pairs, my_dummy_reflections)\n",
        "# chat._substitute('go hello')\n",
        "chat.converse()"
      ],
      "metadata": {
        "id": "a2HGePpL-GO3"
      },
      "execution_count": null,
      "outputs": []
    }
  ]
}